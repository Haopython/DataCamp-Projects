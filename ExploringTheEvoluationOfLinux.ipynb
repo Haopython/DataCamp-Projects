{
 "cells": [
  {
   "cell_type": "markdown",
   "metadata": {
    "dc": {
     "key": "4"
    },
    "deletable": false,
    "editable": false,
    "run_control": {
     "frozen": true
    },
    "tags": [
     "context"
    ]
   },
   "source": [
    "## 1. Introduction\n",
    "<p>Version control repositories like CVS, Subversion or Git can be a real gold mine for software developers. They contain every change to the source code including the date (the \"when\"), the responsible developer (the \"who\"), as well as little message that describes the intention (the \"what\") of a change.</p>\n",
    "<p><a href=\"https://commons.wikimedia.org/wiki/File:Tux.svg\">\n",
    "<img style=\"float: right;margin:5px 20px 5px 1px\" width=\"150px\" src=\"https://s3.amazonaws.com/assets.datacamp.com/production/project_111/img/tux.png\" alt=\"Tux - the Linux mascot\">\n",
    "</a></p>\n",
    "<p>In this notebook, we will analyze the evolution of a very famous open-source project &ndash; the Linux kernel. The Linux kernel is the heart of some Linux distributions like Debian, Ubuntu or CentOS. </p>\n",
    "<p>We get some first insights into the work of the development efforts by </p>\n",
    "<ul>\n",
    "<li>identifying the TOP 10 contributors and</li>\n",
    "<li>visualizing the commits over the years.</li>\n",
    "</ul>\n",
    "<p>Linus Torvalds, the (spoiler alert!) main contributor to the Linux kernel (and also the creator of Git), created a <a href=\"https://github.com/torvalds/linux/\">mirror of the Linux repository on GitHub</a>. It contains the complete history of kernel development for the last 13 years.</p>\n",
    "<p>For our analysis, we will use a Git log file with the following content:</p>"
   ]
  },
  {
   "cell_type": "code",
   "execution_count": 203,
   "metadata": {
    "collapsed": true,
    "dc": {
     "key": "4"
    },
    "tags": [
     "sample_code"
    ]
   },
   "outputs": [],
   "source": [
    "# Printing the content of git_log_excerpt.csv\n",
    "# ... YOUR CODE FOR TASK 1 ..."
   ]
  },
  {
   "cell_type": "markdown",
   "metadata": {
    "dc": {
     "key": "11"
    },
    "deletable": false,
    "editable": false,
    "run_control": {
     "frozen": true
    },
    "tags": [
     "context"
    ]
   },
   "source": [
    "## 2. Reading in the dataset\n",
    "<p>The dataset was created by using the command <code>git log --encoding=latin-1 --pretty=\"%at#%aN\"</code>. The <code>latin-1</code> encoded text output was saved in a header-less csv file. In this file, each row is a commit entry with the following information:</p>\n",
    "<ul>\n",
    "<li><code>timestamp</code>: the time of the commit as a UNIX timestamp in seconds since 1970-01-01 00:00:00 (Git log placeholder \"<code>%at</code>\")</li>\n",
    "<li><code>author</code>: the name of the author that performed the commit (Git log placeholder \"<code>%aN</code>\")</li>\n",
    "</ul>\n",
    "<p>The columns are separated by the number sign <code>#</code>. The complete dataset is in the <code>datasets/</code> directory. It is a <code>gz</code>-compressed csv file named <code>git_log.gz</code>.</p>"
   ]
  },
  {
   "cell_type": "code",
   "execution_count": 205,
   "metadata": {
    "dc": {
     "key": "11"
    },
    "tags": [
     "sample_code"
    ]
   },
   "outputs": [
    {
     "data": {
      "text/html": [
       "<div>\n",
       "<style scoped>\n",
       "    .dataframe tbody tr th:only-of-type {\n",
       "        vertical-align: middle;\n",
       "    }\n",
       "\n",
       "    .dataframe tbody tr th {\n",
       "        vertical-align: top;\n",
       "    }\n",
       "\n",
       "    .dataframe thead th {\n",
       "        text-align: right;\n",
       "    }\n",
       "</style>\n",
       "<table border=\"1\" class=\"dataframe\">\n",
       "  <thead>\n",
       "    <tr style=\"text-align: right;\">\n",
       "      <th></th>\n",
       "      <th>timestamp</th>\n",
       "      <th>author</th>\n",
       "    </tr>\n",
       "  </thead>\n",
       "  <tbody>\n",
       "    <tr>\n",
       "      <th>0</th>\n",
       "      <td>1502826583</td>\n",
       "      <td>Linus Torvalds</td>\n",
       "    </tr>\n",
       "    <tr>\n",
       "      <th>1</th>\n",
       "      <td>1501749089</td>\n",
       "      <td>Adrian Hunter</td>\n",
       "    </tr>\n",
       "    <tr>\n",
       "      <th>2</th>\n",
       "      <td>1501749088</td>\n",
       "      <td>Adrian Hunter</td>\n",
       "    </tr>\n",
       "    <tr>\n",
       "      <th>3</th>\n",
       "      <td>1501882480</td>\n",
       "      <td>Kees Cook</td>\n",
       "    </tr>\n",
       "    <tr>\n",
       "      <th>4</th>\n",
       "      <td>1497271395</td>\n",
       "      <td>Rob Clark</td>\n",
       "    </tr>\n",
       "  </tbody>\n",
       "</table>\n",
       "</div>"
      ],
      "text/plain": [
       "    timestamp          author\n",
       "0  1502826583  Linus Torvalds\n",
       "1  1501749089   Adrian Hunter\n",
       "2  1501749088   Adrian Hunter\n",
       "3  1501882480       Kees Cook\n",
       "4  1497271395       Rob Clark"
      ]
     },
     "execution_count": 205,
     "metadata": {},
     "output_type": "execute_result"
    }
   ],
   "source": [
    "# Loading in the pandas module\n",
    "# ... YOUR CODE FOR TASK 2 ...\n",
    "import pandas as pd\n",
    "# Reading in the log file\n",
    "git_log = pd.read_csv('datasets/git_log.gz', sep = '#', encoding = 'latin_1' , header = None, names = ['timestamp', 'author'])\n",
    "git_log.head()\n",
    "\n",
    "# Printing out the first 5 rows\n",
    "# ... YOUR CODE FOR TASK 2 ..."
   ]
  },
  {
   "cell_type": "markdown",
   "metadata": {
    "dc": {
     "key": "18"
    },
    "deletable": false,
    "editable": false,
    "run_control": {
     "frozen": true
    },
    "tags": [
     "context"
    ]
   },
   "source": [
    "## 3. Getting an overview\n",
    "<p>The dataset contains the information about every single code contribution (a \"commit\") to the Linux kernel over the last 13 years. We'll first take a look at the number of authors and their commits to the repository.</p>"
   ]
  },
  {
   "cell_type": "code",
   "execution_count": 207,
   "metadata": {
    "dc": {
     "key": "18"
    },
    "tags": [
     "sample_code"
    ]
   },
   "outputs": [
    {
     "name": "stdout",
     "output_type": "stream",
     "text": [
      "<class 'pandas.core.frame.DataFrame'>\n",
      "RangeIndex: 699071 entries, 0 to 699070\n",
      "Data columns (total 2 columns):\n",
      "timestamp    699071 non-null int64\n",
      "author       699070 non-null object\n",
      "dtypes: int64(1), object(1)\n",
      "memory usage: 10.7+ MB\n",
      "17385 authors committed 699071 code changes.\n"
     ]
    }
   ],
   "source": [
    "# calculating number of commits\n",
    "number_of_commits = git_log['timestamp'].count()\n",
    "git_log.info()\n",
    "\n",
    "# calculating number of authors\n",
    "number_of_authors = git_log['author'].dropna().nunique()\n",
    "\n",
    "# printing out the results\n",
    "print(\"%s authors committed %s code changes.\" % (number_of_authors, number_of_commits))"
   ]
  },
  {
   "cell_type": "markdown",
   "metadata": {
    "dc": {
     "key": "25"
    },
    "deletable": false,
    "editable": false,
    "run_control": {
     "frozen": true
    },
    "tags": [
     "context"
    ]
   },
   "source": [
    "## 4. Finding the TOP 10 contributors\n",
    "<p>There are some very important people that changed the Linux kernel very often. To see if there are any bottlenecks, we take a look at the TOP 10 authors with the most commits.</p>"
   ]
  },
  {
   "cell_type": "code",
   "execution_count": 209,
   "metadata": {
    "dc": {
     "key": "25"
    },
    "tags": [
     "sample_code"
    ]
   },
   "outputs": [
    {
     "data": {
      "text/plain": [
       "Linus Torvalds           23361\n",
       "David S. Miller           9106\n",
       "Mark Brown                6802\n",
       "Takashi Iwai              6209\n",
       "Al Viro                   6006\n",
       "H Hartley Sweeten         5938\n",
       "Ingo Molnar               5344\n",
       "Mauro Carvalho Chehab     5204\n",
       "Arnd Bergmann             4890\n",
       "Greg Kroah-Hartman        4580\n",
       "Name: author, dtype: int64"
      ]
     },
     "execution_count": 209,
     "metadata": {},
     "output_type": "execute_result"
    }
   ],
   "source": [
    "# Identifying the top 10 authors\n",
    "top_10_authors = (git_log['author'].value_counts()).head(10)\n",
    "\n",
    "# Listing contents of 'top_10_authors'\n",
    "top_10_authors"
   ]
  },
  {
   "cell_type": "markdown",
   "metadata": {
    "dc": {
     "key": "32"
    },
    "deletable": false,
    "editable": false,
    "run_control": {
     "frozen": true
    },
    "tags": [
     "context"
    ]
   },
   "source": [
    "## 5. Wrangling the data\n",
    "<p>For our analysis, we want to visualize the contributions over time. For this, we use the information in the <code>timestamp</code> column to create a time series-based column.</p>"
   ]
  },
  {
   "cell_type": "code",
   "execution_count": 211,
   "metadata": {
    "dc": {
     "key": "32"
    },
    "tags": [
     "sample_code"
    ]
   },
   "outputs": [
    {
     "data": {
      "text/html": [
       "<div>\n",
       "<style scoped>\n",
       "    .dataframe tbody tr th:only-of-type {\n",
       "        vertical-align: middle;\n",
       "    }\n",
       "\n",
       "    .dataframe tbody tr th {\n",
       "        vertical-align: top;\n",
       "    }\n",
       "\n",
       "    .dataframe thead th {\n",
       "        text-align: right;\n",
       "    }\n",
       "</style>\n",
       "<table border=\"1\" class=\"dataframe\">\n",
       "  <thead>\n",
       "    <tr style=\"text-align: right;\">\n",
       "      <th></th>\n",
       "      <th>timestamp</th>\n",
       "      <th>author</th>\n",
       "    </tr>\n",
       "  </thead>\n",
       "  <tbody>\n",
       "    <tr>\n",
       "      <th>0</th>\n",
       "      <td>2017-08-15 19:49:43</td>\n",
       "      <td>Linus Torvalds</td>\n",
       "    </tr>\n",
       "    <tr>\n",
       "      <th>1</th>\n",
       "      <td>2017-08-03 08:31:29</td>\n",
       "      <td>Adrian Hunter</td>\n",
       "    </tr>\n",
       "    <tr>\n",
       "      <th>2</th>\n",
       "      <td>2017-08-03 08:31:28</td>\n",
       "      <td>Adrian Hunter</td>\n",
       "    </tr>\n",
       "    <tr>\n",
       "      <th>3</th>\n",
       "      <td>2017-08-04 21:34:40</td>\n",
       "      <td>Kees Cook</td>\n",
       "    </tr>\n",
       "    <tr>\n",
       "      <th>4</th>\n",
       "      <td>2017-06-12 12:43:15</td>\n",
       "      <td>Rob Clark</td>\n",
       "    </tr>\n",
       "    <tr>\n",
       "      <th>5</th>\n",
       "      <td>2017-08-03 08:31:27</td>\n",
       "      <td>Adrian Hunter</td>\n",
       "    </tr>\n",
       "    <tr>\n",
       "      <th>6</th>\n",
       "      <td>2017-08-03 08:31:26</td>\n",
       "      <td>Adrian Hunter</td>\n",
       "    </tr>\n",
       "    <tr>\n",
       "      <th>7</th>\n",
       "      <td>2017-08-07 12:37:50</td>\n",
       "      <td>Anton Volkov</td>\n",
       "    </tr>\n",
       "    <tr>\n",
       "      <th>8</th>\n",
       "      <td>2017-08-01 07:11:52</td>\n",
       "      <td>Keith Busch</td>\n",
       "    </tr>\n",
       "    <tr>\n",
       "      <th>9</th>\n",
       "      <td>2017-08-15 14:34:55</td>\n",
       "      <td>Alex Deucher</td>\n",
       "    </tr>\n",
       "    <tr>\n",
       "      <th>10</th>\n",
       "      <td>2017-06-18 20:41:23</td>\n",
       "      <td>Vijendar Mukunda</td>\n",
       "    </tr>\n",
       "    <tr>\n",
       "      <th>11</th>\n",
       "      <td>2017-07-07 15:17:13</td>\n",
       "      <td>Vijendar Mukunda</td>\n",
       "    </tr>\n",
       "    <tr>\n",
       "      <th>12</th>\n",
       "      <td>2017-08-10 08:12:45</td>\n",
       "      <td>Evan Quan</td>\n",
       "    </tr>\n",
       "    <tr>\n",
       "      <th>13</th>\n",
       "      <td>2017-08-10 07:17:56</td>\n",
       "      <td>Evan Quan</td>\n",
       "    </tr>\n",
       "    <tr>\n",
       "      <th>14</th>\n",
       "      <td>2017-08-10 03:24:43</td>\n",
       "      <td>Hawking Zhang</td>\n",
       "    </tr>\n",
       "    <tr>\n",
       "      <th>15</th>\n",
       "      <td>2017-08-09 10:30:46</td>\n",
       "      <td>Dan Carpenter</td>\n",
       "    </tr>\n",
       "    <tr>\n",
       "      <th>16</th>\n",
       "      <td>2017-08-08 04:20:30</td>\n",
       "      <td>Rex Zhu</td>\n",
       "    </tr>\n",
       "    <tr>\n",
       "      <th>17</th>\n",
       "      <td>2017-08-04 07:31:37</td>\n",
       "      <td>Rex Zhu</td>\n",
       "    </tr>\n",
       "    <tr>\n",
       "      <th>18</th>\n",
       "      <td>2017-08-08 10:42:51</td>\n",
       "      <td>Trigger Huang</td>\n",
       "    </tr>\n",
       "    <tr>\n",
       "      <th>19</th>\n",
       "      <td>2017-08-08 11:50:46</td>\n",
       "      <td>Kent Russell</td>\n",
       "    </tr>\n",
       "    <tr>\n",
       "      <th>20</th>\n",
       "      <td>2017-08-08 11:58:01</td>\n",
       "      <td>Kent Russell</td>\n",
       "    </tr>\n",
       "    <tr>\n",
       "      <th>21</th>\n",
       "      <td>2017-08-08 11:48:52</td>\n",
       "      <td>Kent Russell</td>\n",
       "    </tr>\n",
       "    <tr>\n",
       "      <th>22</th>\n",
       "      <td>2017-08-08 11:48:01</td>\n",
       "      <td>Kent Russell</td>\n",
       "    </tr>\n",
       "    <tr>\n",
       "      <th>23</th>\n",
       "      <td>2017-08-07 07:32:29</td>\n",
       "      <td>Rex Zhu</td>\n",
       "    </tr>\n",
       "    <tr>\n",
       "      <th>24</th>\n",
       "      <td>2017-08-04 08:56:38</td>\n",
       "      <td>Huang Rui</td>\n",
       "    </tr>\n",
       "    <tr>\n",
       "      <th>25</th>\n",
       "      <td>2017-08-03 11:58:35</td>\n",
       "      <td>Cihangir Akturk</td>\n",
       "    </tr>\n",
       "    <tr>\n",
       "      <th>26</th>\n",
       "      <td>2017-08-03 11:58:16</td>\n",
       "      <td>Cihangir Akturk</td>\n",
       "    </tr>\n",
       "    <tr>\n",
       "      <th>27</th>\n",
       "      <td>2017-06-14 22:46:14</td>\n",
       "      <td>Alex Deucher</td>\n",
       "    </tr>\n",
       "    <tr>\n",
       "      <th>28</th>\n",
       "      <td>2017-08-02 11:27:04</td>\n",
       "      <td>Rex Zhu</td>\n",
       "    </tr>\n",
       "    <tr>\n",
       "      <th>29</th>\n",
       "      <td>2017-08-02 10:37:44</td>\n",
       "      <td>Rex Zhu</td>\n",
       "    </tr>\n",
       "    <tr>\n",
       "      <th>...</th>\n",
       "      <td>...</td>\n",
       "      <td>...</td>\n",
       "    </tr>\n",
       "    <tr>\n",
       "      <th>699041</th>\n",
       "      <td>2005-04-16 22:24:17</td>\n",
       "      <td>Paul Mackerras</td>\n",
       "    </tr>\n",
       "    <tr>\n",
       "      <th>699042</th>\n",
       "      <td>2005-04-16 22:24:17</td>\n",
       "      <td>Paul Mackerras</td>\n",
       "    </tr>\n",
       "    <tr>\n",
       "      <th>699043</th>\n",
       "      <td>2005-04-16 22:24:16</td>\n",
       "      <td>Paul Mackerras</td>\n",
       "    </tr>\n",
       "    <tr>\n",
       "      <th>699044</th>\n",
       "      <td>2005-04-16 22:24:15</td>\n",
       "      <td>Eugene Surovegin</td>\n",
       "    </tr>\n",
       "    <tr>\n",
       "      <th>699045</th>\n",
       "      <td>2005-04-16 22:24:14</td>\n",
       "      <td>Paul Mackerras</td>\n",
       "    </tr>\n",
       "    <tr>\n",
       "      <th>699046</th>\n",
       "      <td>2005-04-16 22:24:13</td>\n",
       "      <td>James Morris</td>\n",
       "    </tr>\n",
       "    <tr>\n",
       "      <th>699047</th>\n",
       "      <td>2005-04-16 22:24:11</td>\n",
       "      <td>Jean Tourrilhes</td>\n",
       "    </tr>\n",
       "    <tr>\n",
       "      <th>699048</th>\n",
       "      <td>2005-04-16 22:24:10</td>\n",
       "      <td>Herbert Xu</td>\n",
       "    </tr>\n",
       "    <tr>\n",
       "      <th>699049</th>\n",
       "      <td>2005-04-16 22:24:09</td>\n",
       "      <td>Arnaldo Carvalho de Melo</td>\n",
       "    </tr>\n",
       "    <tr>\n",
       "      <th>699050</th>\n",
       "      <td>2005-04-16 22:24:09</td>\n",
       "      <td>David S. Miller</td>\n",
       "    </tr>\n",
       "    <tr>\n",
       "      <th>699051</th>\n",
       "      <td>2005-04-16 22:24:08</td>\n",
       "      <td>Martin Hicks</td>\n",
       "    </tr>\n",
       "    <tr>\n",
       "      <th>699052</th>\n",
       "      <td>2005-04-16 22:24:07</td>\n",
       "      <td>akpm@osdl.org</td>\n",
       "    </tr>\n",
       "    <tr>\n",
       "      <th>699053</th>\n",
       "      <td>2005-04-16 22:24:06</td>\n",
       "      <td>akpm@osdl.org</td>\n",
       "    </tr>\n",
       "    <tr>\n",
       "      <th>699054</th>\n",
       "      <td>2005-04-16 22:24:05</td>\n",
       "      <td>Andrea Arcangeli</td>\n",
       "    </tr>\n",
       "    <tr>\n",
       "      <th>699055</th>\n",
       "      <td>2005-04-16 22:24:05</td>\n",
       "      <td>Jeff Moyer</td>\n",
       "    </tr>\n",
       "    <tr>\n",
       "      <th>699056</th>\n",
       "      <td>2005-04-16 22:24:04</td>\n",
       "      <td>Dave Airlie</td>\n",
       "    </tr>\n",
       "    <tr>\n",
       "      <th>699057</th>\n",
       "      <td>2005-04-16 22:24:03</td>\n",
       "      <td>James Morris</td>\n",
       "    </tr>\n",
       "    <tr>\n",
       "      <th>699058</th>\n",
       "      <td>2005-04-16 22:24:02</td>\n",
       "      <td>akpm@osdl.org</td>\n",
       "    </tr>\n",
       "    <tr>\n",
       "      <th>699059</th>\n",
       "      <td>2005-04-16 22:24:01</td>\n",
       "      <td>David S. Miller</td>\n",
       "    </tr>\n",
       "    <tr>\n",
       "      <th>699060</th>\n",
       "      <td>2005-04-16 22:24:01</td>\n",
       "      <td>Stas Sergeev</td>\n",
       "    </tr>\n",
       "    <tr>\n",
       "      <th>699061</th>\n",
       "      <td>2005-04-16 22:24:00</td>\n",
       "      <td>akpm@osdl.org</td>\n",
       "    </tr>\n",
       "    <tr>\n",
       "      <th>699062</th>\n",
       "      <td>2005-04-16 22:23:59</td>\n",
       "      <td>James Bottomley</td>\n",
       "    </tr>\n",
       "    <tr>\n",
       "      <th>699063</th>\n",
       "      <td>2005-04-16 22:23:58</td>\n",
       "      <td>Artem B. Bityuckiy</td>\n",
       "    </tr>\n",
       "    <tr>\n",
       "      <th>699064</th>\n",
       "      <td>2005-04-16 22:23:57</td>\n",
       "      <td>akpm@osdl.org</td>\n",
       "    </tr>\n",
       "    <tr>\n",
       "      <th>699065</th>\n",
       "      <td>2005-04-16 22:23:57</td>\n",
       "      <td>akpm@osdl.org</td>\n",
       "    </tr>\n",
       "    <tr>\n",
       "      <th>699066</th>\n",
       "      <td>2005-04-16 22:23:56</td>\n",
       "      <td>akpm@osdl.org</td>\n",
       "    </tr>\n",
       "    <tr>\n",
       "      <th>699067</th>\n",
       "      <td>2005-04-16 22:23:55</td>\n",
       "      <td>akpm@osdl.org</td>\n",
       "    </tr>\n",
       "    <tr>\n",
       "      <th>699068</th>\n",
       "      <td>2005-04-16 22:23:54</td>\n",
       "      <td>Neil Brown</td>\n",
       "    </tr>\n",
       "    <tr>\n",
       "      <th>699069</th>\n",
       "      <td>2005-04-16 22:23:53</td>\n",
       "      <td>Christoph Lameter</td>\n",
       "    </tr>\n",
       "    <tr>\n",
       "      <th>699070</th>\n",
       "      <td>2005-04-16 22:20:36</td>\n",
       "      <td>Linus Torvalds</td>\n",
       "    </tr>\n",
       "  </tbody>\n",
       "</table>\n",
       "<p>699071 rows × 2 columns</p>\n",
       "</div>"
      ],
      "text/plain": [
       "                 timestamp                    author\n",
       "0      2017-08-15 19:49:43            Linus Torvalds\n",
       "1      2017-08-03 08:31:29             Adrian Hunter\n",
       "2      2017-08-03 08:31:28             Adrian Hunter\n",
       "3      2017-08-04 21:34:40                 Kees Cook\n",
       "4      2017-06-12 12:43:15                 Rob Clark\n",
       "5      2017-08-03 08:31:27             Adrian Hunter\n",
       "6      2017-08-03 08:31:26             Adrian Hunter\n",
       "7      2017-08-07 12:37:50              Anton Volkov\n",
       "8      2017-08-01 07:11:52               Keith Busch\n",
       "9      2017-08-15 14:34:55              Alex Deucher\n",
       "10     2017-06-18 20:41:23          Vijendar Mukunda\n",
       "11     2017-07-07 15:17:13          Vijendar Mukunda\n",
       "12     2017-08-10 08:12:45                 Evan Quan\n",
       "13     2017-08-10 07:17:56                 Evan Quan\n",
       "14     2017-08-10 03:24:43             Hawking Zhang\n",
       "15     2017-08-09 10:30:46             Dan Carpenter\n",
       "16     2017-08-08 04:20:30                   Rex Zhu\n",
       "17     2017-08-04 07:31:37                   Rex Zhu\n",
       "18     2017-08-08 10:42:51             Trigger Huang\n",
       "19     2017-08-08 11:50:46              Kent Russell\n",
       "20     2017-08-08 11:58:01              Kent Russell\n",
       "21     2017-08-08 11:48:52              Kent Russell\n",
       "22     2017-08-08 11:48:01              Kent Russell\n",
       "23     2017-08-07 07:32:29                   Rex Zhu\n",
       "24     2017-08-04 08:56:38                 Huang Rui\n",
       "25     2017-08-03 11:58:35           Cihangir Akturk\n",
       "26     2017-08-03 11:58:16           Cihangir Akturk\n",
       "27     2017-06-14 22:46:14              Alex Deucher\n",
       "28     2017-08-02 11:27:04                   Rex Zhu\n",
       "29     2017-08-02 10:37:44                   Rex Zhu\n",
       "...                    ...                       ...\n",
       "699041 2005-04-16 22:24:17            Paul Mackerras\n",
       "699042 2005-04-16 22:24:17            Paul Mackerras\n",
       "699043 2005-04-16 22:24:16            Paul Mackerras\n",
       "699044 2005-04-16 22:24:15          Eugene Surovegin\n",
       "699045 2005-04-16 22:24:14            Paul Mackerras\n",
       "699046 2005-04-16 22:24:13              James Morris\n",
       "699047 2005-04-16 22:24:11           Jean Tourrilhes\n",
       "699048 2005-04-16 22:24:10                Herbert Xu\n",
       "699049 2005-04-16 22:24:09  Arnaldo Carvalho de Melo\n",
       "699050 2005-04-16 22:24:09           David S. Miller\n",
       "699051 2005-04-16 22:24:08              Martin Hicks\n",
       "699052 2005-04-16 22:24:07             akpm@osdl.org\n",
       "699053 2005-04-16 22:24:06             akpm@osdl.org\n",
       "699054 2005-04-16 22:24:05          Andrea Arcangeli\n",
       "699055 2005-04-16 22:24:05                Jeff Moyer\n",
       "699056 2005-04-16 22:24:04               Dave Airlie\n",
       "699057 2005-04-16 22:24:03              James Morris\n",
       "699058 2005-04-16 22:24:02             akpm@osdl.org\n",
       "699059 2005-04-16 22:24:01           David S. Miller\n",
       "699060 2005-04-16 22:24:01              Stas Sergeev\n",
       "699061 2005-04-16 22:24:00             akpm@osdl.org\n",
       "699062 2005-04-16 22:23:59           James Bottomley\n",
       "699063 2005-04-16 22:23:58        Artem B. Bityuckiy\n",
       "699064 2005-04-16 22:23:57             akpm@osdl.org\n",
       "699065 2005-04-16 22:23:57             akpm@osdl.org\n",
       "699066 2005-04-16 22:23:56             akpm@osdl.org\n",
       "699067 2005-04-16 22:23:55             akpm@osdl.org\n",
       "699068 2005-04-16 22:23:54                Neil Brown\n",
       "699069 2005-04-16 22:23:53         Christoph Lameter\n",
       "699070 2005-04-16 22:20:36            Linus Torvalds\n",
       "\n",
       "[699071 rows x 2 columns]"
      ]
     },
     "execution_count": 211,
     "metadata": {},
     "output_type": "execute_result"
    }
   ],
   "source": [
    "# converting the timestamp column\n",
    "# ... YOUR CODE FOR TASK 5 ...\n",
    "git_log['timestamp'] = pd.to_datetime(git_log['timestamp'], unit = \"s\")\n",
    "# summarizing the converted timestamp column\n",
    "# ... YOUR CODE FOR TASK 5 ...\n",
    "git_log.describe()\n",
    "git_log"
   ]
  },
  {
   "cell_type": "markdown",
   "metadata": {
    "dc": {
     "key": "39"
    },
    "deletable": false,
    "editable": false,
    "run_control": {
     "frozen": true
    },
    "tags": [
     "context"
    ]
   },
   "source": [
    "## 6. Treating wrong timestamps\n",
    "<p>As we can see from the results above, some contributors had their operating system's time incorrectly set when they committed to the repository. We'll clean up the <code>timestamp</code> column by dropping the rows with the incorrect timestamps.</p>"
   ]
  },
  {
   "cell_type": "code",
   "execution_count": 213,
   "metadata": {
    "dc": {
     "key": "39"
    },
    "tags": [
     "sample_code"
    ]
   },
   "outputs": [
    {
     "data": {
      "text/plain": [
       "count                  698569\n",
       "unique                 667977\n",
       "top       2008-09-04 05:30:19\n",
       "freq                       99\n",
       "first     2005-04-16 22:20:36\n",
       "last      2017-10-03 12:57:00\n",
       "Name: timestamp, dtype: object"
      ]
     },
     "execution_count": 213,
     "metadata": {},
     "output_type": "execute_result"
    }
   ],
   "source": [
    "# determining the first real commit timestamp\n",
    "first_commit_timestamp = git_log.iloc[699070, 0]\n",
    "\n",
    "\n",
    "# determining the last sensible commit timestamp\n",
    "last_commit_timestamp = pd.to_datetime('today')\n",
    "\n",
    "# filtering out wrong timestamps\n",
    "\n",
    "mask = (git_log['timestamp'] >= first_commit_timestamp) & (git_log['timestamp'] <= last_commit_timestamp)\n",
    "\n",
    "# summarizing the corrected timestamp column\n",
    "# ... YOUR CODE FOR TASK 6 ...\n",
    "corrected_log  = git_log.loc[mask]\n",
    "corrected_log['timestamp'].describe()\n"
   ]
  },
  {
   "cell_type": "markdown",
   "metadata": {
    "dc": {
     "key": "46"
    },
    "deletable": false,
    "editable": false,
    "run_control": {
     "frozen": true
    },
    "tags": [
     "context"
    ]
   },
   "source": [
    "## 7. Grouping commits per year\n",
    "<p>To find out how the development activity has increased over time, we'll group the commits by year and count them up.</p>"
   ]
  },
  {
   "cell_type": "code",
   "execution_count": 215,
   "metadata": {
    "dc": {
     "key": "46"
    },
    "tags": [
     "sample_code"
    ]
   },
   "outputs": [
    {
     "data": {
      "text/plain": [
       "timestamp\n",
       "2005-01-01    16230\n",
       "2006-01-01    29255\n",
       "2007-01-01    33759\n",
       "2008-01-01    48847\n",
       "2009-01-01    52572\n",
       "2010-01-01    49819\n",
       "2011-01-01    56403\n",
       "2012-01-01    65389\n",
       "2013-01-01    71001\n",
       "2014-01-01    75642\n",
       "2015-01-01    75747\n",
       "2016-01-01    76688\n",
       "2017-01-01    47217\n",
       "Freq: AS-JAN, dtype: int64"
      ]
     },
     "execution_count": 215,
     "metadata": {},
     "output_type": "execute_result"
    }
   ],
   "source": [
    "# Counting the no. commits per year\n",
    "commits_per_year = corrected_log.groupby(\n",
    "                pd.Grouper(\n",
    "                    key = 'timestamp',\n",
    "                    freq = 'AS'\n",
    "                    )\n",
    "                ).size()\n",
    "\n",
    "# Listing the first rows\n",
    "# ... YOUR CODE FOR TASK 7 ...\n",
    "commits_per_year"
   ]
  },
  {
   "cell_type": "markdown",
   "metadata": {
    "dc": {
     "key": "53"
    },
    "deletable": false,
    "editable": false,
    "run_control": {
     "frozen": true
    },
    "tags": [
     "context"
    ]
   },
   "source": [
    "## 8. Visualizing the history of Linux\n",
    "<p>Finally, we'll make a plot out of these counts to better see how the development effort on Linux has increased over the the last few years. </p>"
   ]
  },
  {
   "cell_type": "code",
   "execution_count": 3,
   "metadata": {
    "dc": {
     "key": "53"
    },
    "tags": [
     "sample_code"
    ]
   },
   "outputs": [],
   "source": [
    "# Setting up plotting in Jupyter notebooks\n",
    "%matplotlib inline\n",
    "\n",
    "# plot the data\n",
    "# ... YOUR CODE FOR TASK 8 ...\n",
    "#commits_per_year.plot()\n"
   ]
  },
  {
   "cell_type": "markdown",
   "metadata": {
    "dc": {
     "key": "60"
    },
    "deletable": false,
    "editable": false,
    "run_control": {
     "frozen": true
    },
    "tags": [
     "context"
    ]
   },
   "source": [
    "## 9.  Conclusion\n",
    "<p>Thanks to the solid foundation and caretaking of Linux Torvalds, many other developers are now able to contribute to the Linux kernel as well. There is no decrease of development activity at sight!</p>"
   ]
  },
  {
   "cell_type": "code",
   "execution_count": 219,
   "metadata": {
    "collapsed": true,
    "dc": {
     "key": "60"
    },
    "tags": [
     "sample_code"
    ]
   },
   "outputs": [],
   "source": [
    "# calculating or setting the year with the most commits to Linux\n",
    "year_with_most_commits = '2016' "
   ]
  }
 ],
 "metadata": {
  "kernelspec": {
   "display_name": "Python 3",
   "language": "python",
   "name": "python3"
  },
  "language_info": {
   "codemirror_mode": {
    "name": "ipython",
    "version": 3
   },
   "file_extension": ".py",
   "mimetype": "text/x-python",
   "name": "python",
   "nbconvert_exporter": "python",
   "pygments_lexer": "ipython3",
   "version": "3.6.5"
  }
 },
 "nbformat": 4,
 "nbformat_minor": 2
}
